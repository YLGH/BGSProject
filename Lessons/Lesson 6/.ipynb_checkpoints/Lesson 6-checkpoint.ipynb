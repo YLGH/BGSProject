{
 "cells": [
  {
   "cell_type": "markdown",
   "metadata": {},
   "source": [
    "#Lesson 6\n",
    "\n",
    "This lesson will review the **Pythagorean theorem**, how to find the **distance between two points**, and an interesting method for finding **square roots**."
   ]
  },
  {
   "cell_type": "markdown",
   "metadata": {},
   "source": [
    "##Pythagorean Theorem\n",
    "\n",
    "A triangle is a polygon with three vertices, three edges, and three angles (between each pair of edges). One important property that is true for **any** triangle is that the three angles always sum up to $180^\\circ$. \n",
    "\n",
    "Write a method/function below called isValidTriangle that takes in three arguments, ang_1, ang_2, and ang_3 (all positive), and prints \"YES\" if they can be the angles of a triangle, and prints \"NO\" if they cannot. \n",
    "\n",
    "For example isValidTriangle(90, 45, 45) would print \"YES\", isValidTriangle(10, 10, 170) would print \"YES\", but isValidTriangle(90, 90 90) would print \"NO\".\n",
    "\n",
    "Just a reminder, the syntax for creating a function is\n",
    "\n",
    "```python\n",
    "    def isValidTriangle(arg_1, arg_2, arg_3):\n",
    "        #Implement your code here\n",
    "        ```"
   ]
  },
  {
   "cell_type": "code",
   "execution_count": 4,
   "metadata": {
    "collapsed": true
   },
   "outputs": [],
   "source": [
    "#Write your code here\n",
    "\n",
    "#Solution\n",
    "\n",
    "def isValidTriangle(arg_1, arg_2, arg_3):\n",
    "    if(arg_1 + arg_2 + arg_3 == 180):\n",
    "        print \"YES\"\n",
    "    else:\n",
    "        print \"NO\""
   ]
  },
  {
   "cell_type": "markdown",
   "metadata": {},
   "source": [
    "We can categorize trianlges into three categories based on the properties of their angles.\n",
    "\n",
    "* _Acute Triangle_: **All** of the triangle's angles are less than $90^\\circ$\n",
    "\n",
    "<img src=\"acute_Triangle.png\" alt=\"Drawing\" style=\"width: 150px;\"/>\n",
    "\n",
    "For example if a triangle had the angles of $15^\\circ, 85^\\circ, 80^\\circ$, it would be acute.\n",
    "\n",
    "* _Obtuse Triangle_: **One** of the triangle's angles is larger than $90^\\circ$\n",
    "\n",
    "<img src=\"obtuse_Triangle.png\" alt=\"Drawing\" style=\"width: 150px;\"/>\n",
    "\n",
    "For example if a triangle had the angles of $15^\\circ, 15^\\circ, 150^\\circ$, it would be obtuse.\n",
    "\n",
    "* _Right Triangle_: **One** of the triangle's angles is exactly $90^\\circ$. It is called a right triangle because $90^\\circ$ is called a right angle and is the angle you see on the corner of books, doors, and squares.\n",
    "\n",
    "<img src=\"right_Triangle.png\" alt=\"Drawing\" style=\"width: 150px;\"/>\n",
    "\n",
    "The pythagorean theorem deals with (and only applies) to right triangles. If we notice form the picture above, the right angle is opposite to the longest side, we call this the _hypotenuse_. We call the other two shorter sides the _legs_. If we denote the legs with $A$, and $B$, and the hypotenuse with $C$, shown in the picture below.\n",
    "\n",
    "<img src=\"abc_pag.png\" alt=\"Drawing\" style=\"width: 150px;\"/>\n",
    "\n",
    "The pythagorean statements simlpe states that $A^2 + B^2 = C^2$. Although this equation may look really simple, it is quite powerful. Conversly, if a triangle has three sides $A, B, C$ such that $A^2 + B^2 = C^2$, then it must be a right triangle.\n",
    "\n",
    "The theorem is quite useful because \n",
    "\n",
    "Now we will write some methods that deal with the pythagorean theorem. \n",
    "\n"
   ]
  },
  {
   "cell_type": "code",
   "execution_count": null,
   "metadata": {
    "collapsed": true
   },
   "outputs": [],
   "source": []
  }
 ],
 "metadata": {
  "kernelspec": {
   "display_name": "Python 2",
   "language": "python",
   "name": "python2"
  },
  "language_info": {
   "codemirror_mode": {
    "name": "ipython",
    "version": 2
   },
   "file_extension": ".py",
   "mimetype": "text/x-python",
   "name": "python",
   "nbconvert_exporter": "python",
   "pygments_lexer": "ipython2",
   "version": "2.7.10"
  }
 },
 "nbformat": 4,
 "nbformat_minor": 0
}
